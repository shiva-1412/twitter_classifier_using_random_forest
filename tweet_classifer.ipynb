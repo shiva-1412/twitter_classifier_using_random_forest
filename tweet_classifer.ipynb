{
  "nbformat": 4,
  "nbformat_minor": 0,
  "metadata": {
    "colab": {
      "provenance": []
    },
    "kernelspec": {
      "name": "python3",
      "display_name": "Python 3"
    },
    "language_info": {
      "name": "python"
    }
  },
  "cells": [
    {
      "cell_type": "code",
      "execution_count": null,
      "metadata": {
        "id": "rzIp-JRDSraH"
      },
      "outputs": [],
      "source": [
        "# DataFrame\n",
        "import pandas as pd\n",
        "\n",
        "# plotting\n",
        "import seaborn as sns\n",
        "from wordcloud import WordCloud\n",
        "import matplotlib.pyplot as plt\n",
        "\n",
        "# nltk\n",
        "import nltk\n",
        "from nltk.stem import WordNetLemmatizer\n",
        "from nltk.corpus import stopwords\n",
        "from nltk.tokenize import word_tokenize\n",
        "\n",
        "# sklearn\n",
        "from sklearn.model_selection import train_test_split\n",
        "from sklearn.feature_extraction.text import TfidfVectorizer\n",
        "from sklearn.metrics import confusion_matrix, classification_report\n",
        "\n",
        "from sklearn.linear_model import LogisticRegression\n",
        "from sklearn.svm import LinearSVC\n",
        "from sklearn.ensemble import RandomForestClassifier\n",
        "from sklearn.naive_bayes import BernoulliNB\n",
        "\n",
        "#tensorflow\n",
        "import tensorflow.compat.v2 as tf\n",
        "import tensorflow_datasets as tfds\n",
        "\n",
        "# Utility\n",
        "import pandas as pd\n",
        "import numpy as np\n",
        "import warnings\n",
        "warnings.filterwarnings('ignore')\n",
        "import re\n",
        "import string\n",
        "import pickle\n"
      ]
    },
    {
      "cell_type": "code",
      "source": [
        "# Construct a tf.data.Dataset\n",
        "data = pd.read_csv('training.1600000.processed.noemoticon.csv',encoding='latin', names = ['polarity','id','date','query','user','text'])"
      ],
      "metadata": {
        "id": "IM0kYmLgUBYS"
      },
      "execution_count": null,
      "outputs": []
    },
    {
      "cell_type": "code",
      "source": [
        "data = data.sample(frac=1)\n",
        "data = data[:200000]"
      ],
      "metadata": {
        "id": "XEyCB31EUHyh"
      },
      "execution_count": null,
      "outputs": []
    },
    {
      "cell_type": "code",
      "source": [
        "print(\"Dataset shape:\", data.shape)"
      ],
      "metadata": {
        "colab": {
          "base_uri": "https://localhost:8080/"
        },
        "id": "3P9SL7RlUME_",
        "outputId": "8f24aef4-00c8-4d4b-ad1a-fa1ba04dea77"
      },
      "execution_count": null,
      "outputs": [
        {
          "output_type": "stream",
          "name": "stdout",
          "text": [
            "Dataset shape: (200000, 6)\n"
          ]
        }
      ]
    },
    {
      "cell_type": "code",
      "source": [
        "data.head(5)"
      ],
      "metadata": {
        "colab": {
          "base_uri": "https://localhost:8080/",
          "height": 206
        },
        "id": "X_TsxpIeUPxy",
        "outputId": "57afa9c9-ea73-43a1-b76c-e839ccf3a630"
      },
      "execution_count": null,
      "outputs": [
        {
          "output_type": "execute_result",
          "data": {
            "text/plain": [
              "         polarity          id                          date     query  \\\n",
              "728820          0  2263167417  Sun Jun 21 00:07:00 PDT 2009  NO_QUERY   \n",
              "1406870         4  2055418139  Sat Jun 06 09:16:44 PDT 2009  NO_QUERY   \n",
              "441916          0  2067138569  Sun Jun 07 11:49:02 PDT 2009  NO_QUERY   \n",
              "1428855         4  2059633736  Sat Jun 06 17:19:33 PDT 2009  NO_QUERY   \n",
              "163163          0  1957715674  Fri May 29 01:22:36 PDT 2009  NO_QUERY   \n",
              "\n",
              "                    user                                               text  \n",
              "728820             ak618  @tina_murphy well then zito is going to be a l...  \n",
              "1406870          sammi_x  @mallverine  .. quite easy though .. just one ...  \n",
              "441916         jenkersey  Driving out to Steven's Pass. It's cloudy so t...  \n",
              "1428855  audiencealldead          Bring on the harleys for ohio bike week.   \n",
              "163163        in_the_air  @JulieAdore I checked ULCA, they've got a prog...  "
            ],
            "text/html": [
              "\n",
              "\n",
              "  <div id=\"df-829e85e7-9a2b-4701-8fa5-4de683910aaa\">\n",
              "    <div class=\"colab-df-container\">\n",
              "      <div>\n",
              "<style scoped>\n",
              "    .dataframe tbody tr th:only-of-type {\n",
              "        vertical-align: middle;\n",
              "    }\n",
              "\n",
              "    .dataframe tbody tr th {\n",
              "        vertical-align: top;\n",
              "    }\n",
              "\n",
              "    .dataframe thead th {\n",
              "        text-align: right;\n",
              "    }\n",
              "</style>\n",
              "<table border=\"1\" class=\"dataframe\">\n",
              "  <thead>\n",
              "    <tr style=\"text-align: right;\">\n",
              "      <th></th>\n",
              "      <th>polarity</th>\n",
              "      <th>id</th>\n",
              "      <th>date</th>\n",
              "      <th>query</th>\n",
              "      <th>user</th>\n",
              "      <th>text</th>\n",
              "    </tr>\n",
              "  </thead>\n",
              "  <tbody>\n",
              "    <tr>\n",
              "      <th>728820</th>\n",
              "      <td>0</td>\n",
              "      <td>2263167417</td>\n",
              "      <td>Sun Jun 21 00:07:00 PDT 2009</td>\n",
              "      <td>NO_QUERY</td>\n",
              "      <td>ak618</td>\n",
              "      <td>@tina_murphy well then zito is going to be a l...</td>\n",
              "    </tr>\n",
              "    <tr>\n",
              "      <th>1406870</th>\n",
              "      <td>4</td>\n",
              "      <td>2055418139</td>\n",
              "      <td>Sat Jun 06 09:16:44 PDT 2009</td>\n",
              "      <td>NO_QUERY</td>\n",
              "      <td>sammi_x</td>\n",
              "      <td>@mallverine  .. quite easy though .. just one ...</td>\n",
              "    </tr>\n",
              "    <tr>\n",
              "      <th>441916</th>\n",
              "      <td>0</td>\n",
              "      <td>2067138569</td>\n",
              "      <td>Sun Jun 07 11:49:02 PDT 2009</td>\n",
              "      <td>NO_QUERY</td>\n",
              "      <td>jenkersey</td>\n",
              "      <td>Driving out to Steven's Pass. It's cloudy so t...</td>\n",
              "    </tr>\n",
              "    <tr>\n",
              "      <th>1428855</th>\n",
              "      <td>4</td>\n",
              "      <td>2059633736</td>\n",
              "      <td>Sat Jun 06 17:19:33 PDT 2009</td>\n",
              "      <td>NO_QUERY</td>\n",
              "      <td>audiencealldead</td>\n",
              "      <td>Bring on the harleys for ohio bike week.</td>\n",
              "    </tr>\n",
              "    <tr>\n",
              "      <th>163163</th>\n",
              "      <td>0</td>\n",
              "      <td>1957715674</td>\n",
              "      <td>Fri May 29 01:22:36 PDT 2009</td>\n",
              "      <td>NO_QUERY</td>\n",
              "      <td>in_the_air</td>\n",
              "      <td>@JulieAdore I checked ULCA, they've got a prog...</td>\n",
              "    </tr>\n",
              "  </tbody>\n",
              "</table>\n",
              "</div>\n",
              "      <button class=\"colab-df-convert\" onclick=\"convertToInteractive('df-829e85e7-9a2b-4701-8fa5-4de683910aaa')\"\n",
              "              title=\"Convert this dataframe to an interactive table.\"\n",
              "              style=\"display:none;\">\n",
              "\n",
              "  <svg xmlns=\"http://www.w3.org/2000/svg\" height=\"24px\"viewBox=\"0 0 24 24\"\n",
              "       width=\"24px\">\n",
              "    <path d=\"M0 0h24v24H0V0z\" fill=\"none\"/>\n",
              "    <path d=\"M18.56 5.44l.94 2.06.94-2.06 2.06-.94-2.06-.94-.94-2.06-.94 2.06-2.06.94zm-11 1L8.5 8.5l.94-2.06 2.06-.94-2.06-.94L8.5 2.5l-.94 2.06-2.06.94zm10 10l.94 2.06.94-2.06 2.06-.94-2.06-.94-.94-2.06-.94 2.06-2.06.94z\"/><path d=\"M17.41 7.96l-1.37-1.37c-.4-.4-.92-.59-1.43-.59-.52 0-1.04.2-1.43.59L10.3 9.45l-7.72 7.72c-.78.78-.78 2.05 0 2.83L4 21.41c.39.39.9.59 1.41.59.51 0 1.02-.2 1.41-.59l7.78-7.78 2.81-2.81c.8-.78.8-2.07 0-2.86zM5.41 20L4 18.59l7.72-7.72 1.47 1.35L5.41 20z\"/>\n",
              "  </svg>\n",
              "      </button>\n",
              "\n",
              "\n",
              "\n",
              "    <div id=\"df-b84e985d-d95b-4fbb-b46c-b8e8e0224810\">\n",
              "      <button class=\"colab-df-quickchart\" onclick=\"quickchart('df-b84e985d-d95b-4fbb-b46c-b8e8e0224810')\"\n",
              "              title=\"Suggest charts.\"\n",
              "              style=\"display:none;\">\n",
              "\n",
              "<svg xmlns=\"http://www.w3.org/2000/svg\" height=\"24px\"viewBox=\"0 0 24 24\"\n",
              "     width=\"24px\">\n",
              "    <g>\n",
              "        <path d=\"M19 3H5c-1.1 0-2 .9-2 2v14c0 1.1.9 2 2 2h14c1.1 0 2-.9 2-2V5c0-1.1-.9-2-2-2zM9 17H7v-7h2v7zm4 0h-2V7h2v10zm4 0h-2v-4h2v4z\"/>\n",
              "    </g>\n",
              "</svg>\n",
              "      </button>\n",
              "    </div>\n",
              "\n",
              "<style>\n",
              "  .colab-df-quickchart {\n",
              "    background-color: #E8F0FE;\n",
              "    border: none;\n",
              "    border-radius: 50%;\n",
              "    cursor: pointer;\n",
              "    display: none;\n",
              "    fill: #1967D2;\n",
              "    height: 32px;\n",
              "    padding: 0 0 0 0;\n",
              "    width: 32px;\n",
              "  }\n",
              "\n",
              "  .colab-df-quickchart:hover {\n",
              "    background-color: #E2EBFA;\n",
              "    box-shadow: 0px 1px 2px rgba(60, 64, 67, 0.3), 0px 1px 3px 1px rgba(60, 64, 67, 0.15);\n",
              "    fill: #174EA6;\n",
              "  }\n",
              "\n",
              "  [theme=dark] .colab-df-quickchart {\n",
              "    background-color: #3B4455;\n",
              "    fill: #D2E3FC;\n",
              "  }\n",
              "\n",
              "  [theme=dark] .colab-df-quickchart:hover {\n",
              "    background-color: #434B5C;\n",
              "    box-shadow: 0px 1px 3px 1px rgba(0, 0, 0, 0.15);\n",
              "    filter: drop-shadow(0px 1px 2px rgba(0, 0, 0, 0.3));\n",
              "    fill: #FFFFFF;\n",
              "  }\n",
              "</style>\n",
              "\n",
              "    <script>\n",
              "      async function quickchart(key) {\n",
              "        const containerElement = document.querySelector('#' + key);\n",
              "        const charts = await google.colab.kernel.invokeFunction(\n",
              "            'suggestCharts', [key], {});\n",
              "      }\n",
              "    </script>\n",
              "\n",
              "      <script>\n",
              "\n",
              "function displayQuickchartButton(domScope) {\n",
              "  let quickchartButtonEl =\n",
              "    domScope.querySelector('#df-b84e985d-d95b-4fbb-b46c-b8e8e0224810 button.colab-df-quickchart');\n",
              "  quickchartButtonEl.style.display =\n",
              "    google.colab.kernel.accessAllowed ? 'block' : 'none';\n",
              "}\n",
              "\n",
              "        displayQuickchartButton(document);\n",
              "      </script>\n",
              "      <style>\n",
              "    .colab-df-container {\n",
              "      display:flex;\n",
              "      flex-wrap:wrap;\n",
              "      gap: 12px;\n",
              "    }\n",
              "\n",
              "    .colab-df-convert {\n",
              "      background-color: #E8F0FE;\n",
              "      border: none;\n",
              "      border-radius: 50%;\n",
              "      cursor: pointer;\n",
              "      display: none;\n",
              "      fill: #1967D2;\n",
              "      height: 32px;\n",
              "      padding: 0 0 0 0;\n",
              "      width: 32px;\n",
              "    }\n",
              "\n",
              "    .colab-df-convert:hover {\n",
              "      background-color: #E2EBFA;\n",
              "      box-shadow: 0px 1px 2px rgba(60, 64, 67, 0.3), 0px 1px 3px 1px rgba(60, 64, 67, 0.15);\n",
              "      fill: #174EA6;\n",
              "    }\n",
              "\n",
              "    [theme=dark] .colab-df-convert {\n",
              "      background-color: #3B4455;\n",
              "      fill: #D2E3FC;\n",
              "    }\n",
              "\n",
              "    [theme=dark] .colab-df-convert:hover {\n",
              "      background-color: #434B5C;\n",
              "      box-shadow: 0px 1px 3px 1px rgba(0, 0, 0, 0.15);\n",
              "      filter: drop-shadow(0px 1px 2px rgba(0, 0, 0, 0.3));\n",
              "      fill: #FFFFFF;\n",
              "    }\n",
              "  </style>\n",
              "\n",
              "      <script>\n",
              "        const buttonEl =\n",
              "          document.querySelector('#df-829e85e7-9a2b-4701-8fa5-4de683910aaa button.colab-df-convert');\n",
              "        buttonEl.style.display =\n",
              "          google.colab.kernel.accessAllowed ? 'block' : 'none';\n",
              "\n",
              "        async function convertToInteractive(key) {\n",
              "          const element = document.querySelector('#df-829e85e7-9a2b-4701-8fa5-4de683910aaa');\n",
              "          const dataTable =\n",
              "            await google.colab.kernel.invokeFunction('convertToInteractive',\n",
              "                                                     [key], {});\n",
              "          if (!dataTable) return;\n",
              "\n",
              "          const docLinkHtml = 'Like what you see? Visit the ' +\n",
              "            '<a target=\"_blank\" href=https://colab.research.google.com/notebooks/data_table.ipynb>data table notebook</a>'\n",
              "            + ' to learn more about interactive tables.';\n",
              "          element.innerHTML = '';\n",
              "          dataTable['output_type'] = 'display_data';\n",
              "          await google.colab.output.renderOutput(dataTable, element);\n",
              "          const docLink = document.createElement('div');\n",
              "          docLink.innerHTML = docLinkHtml;\n",
              "          element.appendChild(docLink);\n",
              "        }\n",
              "      </script>\n",
              "    </div>\n",
              "  </div>\n"
            ]
          },
          "metadata": {},
          "execution_count": 5
        }
      ]
    },
    {
      "cell_type": "code",
      "source": [
        "data['polarity'].unique()"
      ],
      "metadata": {
        "colab": {
          "base_uri": "https://localhost:8080/"
        },
        "id": "ISRC4oP7USx_",
        "outputId": "5da2ab5e-f1ef-46f5-a202-c116588f868d"
      },
      "execution_count": null,
      "outputs": [
        {
          "output_type": "execute_result",
          "data": {
            "text/plain": [
              "array([0, 4])"
            ]
          },
          "metadata": {},
          "execution_count": 6
        }
      ]
    },
    {
      "cell_type": "code",
      "source": [
        "# Replacing the value 4 -->1 for ease of understanding.\n",
        "data['polarity'] = data['polarity'].replace(4,1)\n",
        "data.head()"
      ],
      "metadata": {
        "colab": {
          "base_uri": "https://localhost:8080/",
          "height": 206
        },
        "id": "VN51nEbgUWr9",
        "outputId": "c021f3f0-cfc6-4507-f36a-5540158677b3"
      },
      "execution_count": null,
      "outputs": [
        {
          "output_type": "execute_result",
          "data": {
            "text/plain": [
              "         polarity          id                          date     query  \\\n",
              "728820          0  2263167417  Sun Jun 21 00:07:00 PDT 2009  NO_QUERY   \n",
              "1406870         1  2055418139  Sat Jun 06 09:16:44 PDT 2009  NO_QUERY   \n",
              "441916          0  2067138569  Sun Jun 07 11:49:02 PDT 2009  NO_QUERY   \n",
              "1428855         1  2059633736  Sat Jun 06 17:19:33 PDT 2009  NO_QUERY   \n",
              "163163          0  1957715674  Fri May 29 01:22:36 PDT 2009  NO_QUERY   \n",
              "\n",
              "                    user                                               text  \n",
              "728820             ak618  @tina_murphy well then zito is going to be a l...  \n",
              "1406870          sammi_x  @mallverine  .. quite easy though .. just one ...  \n",
              "441916         jenkersey  Driving out to Steven's Pass. It's cloudy so t...  \n",
              "1428855  audiencealldead          Bring on the harleys for ohio bike week.   \n",
              "163163        in_the_air  @JulieAdore I checked ULCA, they've got a prog...  "
            ],
            "text/html": [
              "\n",
              "\n",
              "  <div id=\"df-4a7ad461-83ca-412a-b258-acb9c6352785\">\n",
              "    <div class=\"colab-df-container\">\n",
              "      <div>\n",
              "<style scoped>\n",
              "    .dataframe tbody tr th:only-of-type {\n",
              "        vertical-align: middle;\n",
              "    }\n",
              "\n",
              "    .dataframe tbody tr th {\n",
              "        vertical-align: top;\n",
              "    }\n",
              "\n",
              "    .dataframe thead th {\n",
              "        text-align: right;\n",
              "    }\n",
              "</style>\n",
              "<table border=\"1\" class=\"dataframe\">\n",
              "  <thead>\n",
              "    <tr style=\"text-align: right;\">\n",
              "      <th></th>\n",
              "      <th>polarity</th>\n",
              "      <th>id</th>\n",
              "      <th>date</th>\n",
              "      <th>query</th>\n",
              "      <th>user</th>\n",
              "      <th>text</th>\n",
              "    </tr>\n",
              "  </thead>\n",
              "  <tbody>\n",
              "    <tr>\n",
              "      <th>728820</th>\n",
              "      <td>0</td>\n",
              "      <td>2263167417</td>\n",
              "      <td>Sun Jun 21 00:07:00 PDT 2009</td>\n",
              "      <td>NO_QUERY</td>\n",
              "      <td>ak618</td>\n",
              "      <td>@tina_murphy well then zito is going to be a l...</td>\n",
              "    </tr>\n",
              "    <tr>\n",
              "      <th>1406870</th>\n",
              "      <td>1</td>\n",
              "      <td>2055418139</td>\n",
              "      <td>Sat Jun 06 09:16:44 PDT 2009</td>\n",
              "      <td>NO_QUERY</td>\n",
              "      <td>sammi_x</td>\n",
              "      <td>@mallverine  .. quite easy though .. just one ...</td>\n",
              "    </tr>\n",
              "    <tr>\n",
              "      <th>441916</th>\n",
              "      <td>0</td>\n",
              "      <td>2067138569</td>\n",
              "      <td>Sun Jun 07 11:49:02 PDT 2009</td>\n",
              "      <td>NO_QUERY</td>\n",
              "      <td>jenkersey</td>\n",
              "      <td>Driving out to Steven's Pass. It's cloudy so t...</td>\n",
              "    </tr>\n",
              "    <tr>\n",
              "      <th>1428855</th>\n",
              "      <td>1</td>\n",
              "      <td>2059633736</td>\n",
              "      <td>Sat Jun 06 17:19:33 PDT 2009</td>\n",
              "      <td>NO_QUERY</td>\n",
              "      <td>audiencealldead</td>\n",
              "      <td>Bring on the harleys for ohio bike week.</td>\n",
              "    </tr>\n",
              "    <tr>\n",
              "      <th>163163</th>\n",
              "      <td>0</td>\n",
              "      <td>1957715674</td>\n",
              "      <td>Fri May 29 01:22:36 PDT 2009</td>\n",
              "      <td>NO_QUERY</td>\n",
              "      <td>in_the_air</td>\n",
              "      <td>@JulieAdore I checked ULCA, they've got a prog...</td>\n",
              "    </tr>\n",
              "  </tbody>\n",
              "</table>\n",
              "</div>\n",
              "      <button class=\"colab-df-convert\" onclick=\"convertToInteractive('df-4a7ad461-83ca-412a-b258-acb9c6352785')\"\n",
              "              title=\"Convert this dataframe to an interactive table.\"\n",
              "              style=\"display:none;\">\n",
              "\n",
              "  <svg xmlns=\"http://www.w3.org/2000/svg\" height=\"24px\"viewBox=\"0 0 24 24\"\n",
              "       width=\"24px\">\n",
              "    <path d=\"M0 0h24v24H0V0z\" fill=\"none\"/>\n",
              "    <path d=\"M18.56 5.44l.94 2.06.94-2.06 2.06-.94-2.06-.94-.94-2.06-.94 2.06-2.06.94zm-11 1L8.5 8.5l.94-2.06 2.06-.94-2.06-.94L8.5 2.5l-.94 2.06-2.06.94zm10 10l.94 2.06.94-2.06 2.06-.94-2.06-.94-.94-2.06-.94 2.06-2.06.94z\"/><path d=\"M17.41 7.96l-1.37-1.37c-.4-.4-.92-.59-1.43-.59-.52 0-1.04.2-1.43.59L10.3 9.45l-7.72 7.72c-.78.78-.78 2.05 0 2.83L4 21.41c.39.39.9.59 1.41.59.51 0 1.02-.2 1.41-.59l7.78-7.78 2.81-2.81c.8-.78.8-2.07 0-2.86zM5.41 20L4 18.59l7.72-7.72 1.47 1.35L5.41 20z\"/>\n",
              "  </svg>\n",
              "      </button>\n",
              "\n",
              "\n",
              "\n",
              "    <div id=\"df-b529400a-b308-4113-bcc7-752cccac839e\">\n",
              "      <button class=\"colab-df-quickchart\" onclick=\"quickchart('df-b529400a-b308-4113-bcc7-752cccac839e')\"\n",
              "              title=\"Suggest charts.\"\n",
              "              style=\"display:none;\">\n",
              "\n",
              "<svg xmlns=\"http://www.w3.org/2000/svg\" height=\"24px\"viewBox=\"0 0 24 24\"\n",
              "     width=\"24px\">\n",
              "    <g>\n",
              "        <path d=\"M19 3H5c-1.1 0-2 .9-2 2v14c0 1.1.9 2 2 2h14c1.1 0 2-.9 2-2V5c0-1.1-.9-2-2-2zM9 17H7v-7h2v7zm4 0h-2V7h2v10zm4 0h-2v-4h2v4z\"/>\n",
              "    </g>\n",
              "</svg>\n",
              "      </button>\n",
              "    </div>\n",
              "\n",
              "<style>\n",
              "  .colab-df-quickchart {\n",
              "    background-color: #E8F0FE;\n",
              "    border: none;\n",
              "    border-radius: 50%;\n",
              "    cursor: pointer;\n",
              "    display: none;\n",
              "    fill: #1967D2;\n",
              "    height: 32px;\n",
              "    padding: 0 0 0 0;\n",
              "    width: 32px;\n",
              "  }\n",
              "\n",
              "  .colab-df-quickchart:hover {\n",
              "    background-color: #E2EBFA;\n",
              "    box-shadow: 0px 1px 2px rgba(60, 64, 67, 0.3), 0px 1px 3px 1px rgba(60, 64, 67, 0.15);\n",
              "    fill: #174EA6;\n",
              "  }\n",
              "\n",
              "  [theme=dark] .colab-df-quickchart {\n",
              "    background-color: #3B4455;\n",
              "    fill: #D2E3FC;\n",
              "  }\n",
              "\n",
              "  [theme=dark] .colab-df-quickchart:hover {\n",
              "    background-color: #434B5C;\n",
              "    box-shadow: 0px 1px 3px 1px rgba(0, 0, 0, 0.15);\n",
              "    filter: drop-shadow(0px 1px 2px rgba(0, 0, 0, 0.3));\n",
              "    fill: #FFFFFF;\n",
              "  }\n",
              "</style>\n",
              "\n",
              "    <script>\n",
              "      async function quickchart(key) {\n",
              "        const containerElement = document.querySelector('#' + key);\n",
              "        const charts = await google.colab.kernel.invokeFunction(\n",
              "            'suggestCharts', [key], {});\n",
              "      }\n",
              "    </script>\n",
              "\n",
              "      <script>\n",
              "\n",
              "function displayQuickchartButton(domScope) {\n",
              "  let quickchartButtonEl =\n",
              "    domScope.querySelector('#df-b529400a-b308-4113-bcc7-752cccac839e button.colab-df-quickchart');\n",
              "  quickchartButtonEl.style.display =\n",
              "    google.colab.kernel.accessAllowed ? 'block' : 'none';\n",
              "}\n",
              "\n",
              "        displayQuickchartButton(document);\n",
              "      </script>\n",
              "      <style>\n",
              "    .colab-df-container {\n",
              "      display:flex;\n",
              "      flex-wrap:wrap;\n",
              "      gap: 12px;\n",
              "    }\n",
              "\n",
              "    .colab-df-convert {\n",
              "      background-color: #E8F0FE;\n",
              "      border: none;\n",
              "      border-radius: 50%;\n",
              "      cursor: pointer;\n",
              "      display: none;\n",
              "      fill: #1967D2;\n",
              "      height: 32px;\n",
              "      padding: 0 0 0 0;\n",
              "      width: 32px;\n",
              "    }\n",
              "\n",
              "    .colab-df-convert:hover {\n",
              "      background-color: #E2EBFA;\n",
              "      box-shadow: 0px 1px 2px rgba(60, 64, 67, 0.3), 0px 1px 3px 1px rgba(60, 64, 67, 0.15);\n",
              "      fill: #174EA6;\n",
              "    }\n",
              "\n",
              "    [theme=dark] .colab-df-convert {\n",
              "      background-color: #3B4455;\n",
              "      fill: #D2E3FC;\n",
              "    }\n",
              "\n",
              "    [theme=dark] .colab-df-convert:hover {\n",
              "      background-color: #434B5C;\n",
              "      box-shadow: 0px 1px 3px 1px rgba(0, 0, 0, 0.15);\n",
              "      filter: drop-shadow(0px 1px 2px rgba(0, 0, 0, 0.3));\n",
              "      fill: #FFFFFF;\n",
              "    }\n",
              "  </style>\n",
              "\n",
              "      <script>\n",
              "        const buttonEl =\n",
              "          document.querySelector('#df-4a7ad461-83ca-412a-b258-acb9c6352785 button.colab-df-convert');\n",
              "        buttonEl.style.display =\n",
              "          google.colab.kernel.accessAllowed ? 'block' : 'none';\n",
              "\n",
              "        async function convertToInteractive(key) {\n",
              "          const element = document.querySelector('#df-4a7ad461-83ca-412a-b258-acb9c6352785');\n",
              "          const dataTable =\n",
              "            await google.colab.kernel.invokeFunction('convertToInteractive',\n",
              "                                                     [key], {});\n",
              "          if (!dataTable) return;\n",
              "\n",
              "          const docLinkHtml = 'Like what you see? Visit the ' +\n",
              "            '<a target=\"_blank\" href=https://colab.research.google.com/notebooks/data_table.ipynb>data table notebook</a>'\n",
              "            + ' to learn more about interactive tables.';\n",
              "          element.innerHTML = '';\n",
              "          dataTable['output_type'] = 'display_data';\n",
              "          await google.colab.output.renderOutput(dataTable, element);\n",
              "          const docLink = document.createElement('div');\n",
              "          docLink.innerHTML = docLinkHtml;\n",
              "          element.appendChild(docLink);\n",
              "        }\n",
              "      </script>\n",
              "    </div>\n",
              "  </div>\n"
            ]
          },
          "metadata": {},
          "execution_count": 7
        }
      ]
    },
    {
      "cell_type": "code",
      "source": [
        "data.describe()"
      ],
      "metadata": {
        "colab": {
          "base_uri": "https://localhost:8080/",
          "height": 300
        },
        "id": "HBYYwC0QUaVW",
        "outputId": "582f9f7e-968a-43ca-839c-25b34b5dd158"
      },
      "execution_count": null,
      "outputs": [
        {
          "output_type": "execute_result",
          "data": {
            "text/plain": [
              "            polarity            id\n",
              "count  200000.000000  2.000000e+05\n",
              "mean        0.499820  1.999077e+09\n",
              "std         0.500001  1.933482e+08\n",
              "min         0.000000  1.467811e+09\n",
              "25%         0.000000  1.957079e+09\n",
              "50%         0.000000  2.002065e+09\n",
              "75%         1.000000  2.177003e+09\n",
              "max         1.000000  2.329199e+09"
            ],
            "text/html": [
              "\n",
              "\n",
              "  <div id=\"df-3f568ba1-2297-45ac-bf6f-275c446eb264\">\n",
              "    <div class=\"colab-df-container\">\n",
              "      <div>\n",
              "<style scoped>\n",
              "    .dataframe tbody tr th:only-of-type {\n",
              "        vertical-align: middle;\n",
              "    }\n",
              "\n",
              "    .dataframe tbody tr th {\n",
              "        vertical-align: top;\n",
              "    }\n",
              "\n",
              "    .dataframe thead th {\n",
              "        text-align: right;\n",
              "    }\n",
              "</style>\n",
              "<table border=\"1\" class=\"dataframe\">\n",
              "  <thead>\n",
              "    <tr style=\"text-align: right;\">\n",
              "      <th></th>\n",
              "      <th>polarity</th>\n",
              "      <th>id</th>\n",
              "    </tr>\n",
              "  </thead>\n",
              "  <tbody>\n",
              "    <tr>\n",
              "      <th>count</th>\n",
              "      <td>200000.000000</td>\n",
              "      <td>2.000000e+05</td>\n",
              "    </tr>\n",
              "    <tr>\n",
              "      <th>mean</th>\n",
              "      <td>0.499820</td>\n",
              "      <td>1.999077e+09</td>\n",
              "    </tr>\n",
              "    <tr>\n",
              "      <th>std</th>\n",
              "      <td>0.500001</td>\n",
              "      <td>1.933482e+08</td>\n",
              "    </tr>\n",
              "    <tr>\n",
              "      <th>min</th>\n",
              "      <td>0.000000</td>\n",
              "      <td>1.467811e+09</td>\n",
              "    </tr>\n",
              "    <tr>\n",
              "      <th>25%</th>\n",
              "      <td>0.000000</td>\n",
              "      <td>1.957079e+09</td>\n",
              "    </tr>\n",
              "    <tr>\n",
              "      <th>50%</th>\n",
              "      <td>0.000000</td>\n",
              "      <td>2.002065e+09</td>\n",
              "    </tr>\n",
              "    <tr>\n",
              "      <th>75%</th>\n",
              "      <td>1.000000</td>\n",
              "      <td>2.177003e+09</td>\n",
              "    </tr>\n",
              "    <tr>\n",
              "      <th>max</th>\n",
              "      <td>1.000000</td>\n",
              "      <td>2.329199e+09</td>\n",
              "    </tr>\n",
              "  </tbody>\n",
              "</table>\n",
              "</div>\n",
              "      <button class=\"colab-df-convert\" onclick=\"convertToInteractive('df-3f568ba1-2297-45ac-bf6f-275c446eb264')\"\n",
              "              title=\"Convert this dataframe to an interactive table.\"\n",
              "              style=\"display:none;\">\n",
              "\n",
              "  <svg xmlns=\"http://www.w3.org/2000/svg\" height=\"24px\"viewBox=\"0 0 24 24\"\n",
              "       width=\"24px\">\n",
              "    <path d=\"M0 0h24v24H0V0z\" fill=\"none\"/>\n",
              "    <path d=\"M18.56 5.44l.94 2.06.94-2.06 2.06-.94-2.06-.94-.94-2.06-.94 2.06-2.06.94zm-11 1L8.5 8.5l.94-2.06 2.06-.94-2.06-.94L8.5 2.5l-.94 2.06-2.06.94zm10 10l.94 2.06.94-2.06 2.06-.94-2.06-.94-.94-2.06-.94 2.06-2.06.94z\"/><path d=\"M17.41 7.96l-1.37-1.37c-.4-.4-.92-.59-1.43-.59-.52 0-1.04.2-1.43.59L10.3 9.45l-7.72 7.72c-.78.78-.78 2.05 0 2.83L4 21.41c.39.39.9.59 1.41.59.51 0 1.02-.2 1.41-.59l7.78-7.78 2.81-2.81c.8-.78.8-2.07 0-2.86zM5.41 20L4 18.59l7.72-7.72 1.47 1.35L5.41 20z\"/>\n",
              "  </svg>\n",
              "      </button>\n",
              "\n",
              "\n",
              "\n",
              "    <div id=\"df-8b85ec12-708c-4523-b67b-3badae455ae8\">\n",
              "      <button class=\"colab-df-quickchart\" onclick=\"quickchart('df-8b85ec12-708c-4523-b67b-3badae455ae8')\"\n",
              "              title=\"Suggest charts.\"\n",
              "              style=\"display:none;\">\n",
              "\n",
              "<svg xmlns=\"http://www.w3.org/2000/svg\" height=\"24px\"viewBox=\"0 0 24 24\"\n",
              "     width=\"24px\">\n",
              "    <g>\n",
              "        <path d=\"M19 3H5c-1.1 0-2 .9-2 2v14c0 1.1.9 2 2 2h14c1.1 0 2-.9 2-2V5c0-1.1-.9-2-2-2zM9 17H7v-7h2v7zm4 0h-2V7h2v10zm4 0h-2v-4h2v4z\"/>\n",
              "    </g>\n",
              "</svg>\n",
              "      </button>\n",
              "    </div>\n",
              "\n",
              "<style>\n",
              "  .colab-df-quickchart {\n",
              "    background-color: #E8F0FE;\n",
              "    border: none;\n",
              "    border-radius: 50%;\n",
              "    cursor: pointer;\n",
              "    display: none;\n",
              "    fill: #1967D2;\n",
              "    height: 32px;\n",
              "    padding: 0 0 0 0;\n",
              "    width: 32px;\n",
              "  }\n",
              "\n",
              "  .colab-df-quickchart:hover {\n",
              "    background-color: #E2EBFA;\n",
              "    box-shadow: 0px 1px 2px rgba(60, 64, 67, 0.3), 0px 1px 3px 1px rgba(60, 64, 67, 0.15);\n",
              "    fill: #174EA6;\n",
              "  }\n",
              "\n",
              "  [theme=dark] .colab-df-quickchart {\n",
              "    background-color: #3B4455;\n",
              "    fill: #D2E3FC;\n",
              "  }\n",
              "\n",
              "  [theme=dark] .colab-df-quickchart:hover {\n",
              "    background-color: #434B5C;\n",
              "    box-shadow: 0px 1px 3px 1px rgba(0, 0, 0, 0.15);\n",
              "    filter: drop-shadow(0px 1px 2px rgba(0, 0, 0, 0.3));\n",
              "    fill: #FFFFFF;\n",
              "  }\n",
              "</style>\n",
              "\n",
              "    <script>\n",
              "      async function quickchart(key) {\n",
              "        const containerElement = document.querySelector('#' + key);\n",
              "        const charts = await google.colab.kernel.invokeFunction(\n",
              "            'suggestCharts', [key], {});\n",
              "      }\n",
              "    </script>\n",
              "\n",
              "      <script>\n",
              "\n",
              "function displayQuickchartButton(domScope) {\n",
              "  let quickchartButtonEl =\n",
              "    domScope.querySelector('#df-8b85ec12-708c-4523-b67b-3badae455ae8 button.colab-df-quickchart');\n",
              "  quickchartButtonEl.style.display =\n",
              "    google.colab.kernel.accessAllowed ? 'block' : 'none';\n",
              "}\n",
              "\n",
              "        displayQuickchartButton(document);\n",
              "      </script>\n",
              "      <style>\n",
              "    .colab-df-container {\n",
              "      display:flex;\n",
              "      flex-wrap:wrap;\n",
              "      gap: 12px;\n",
              "    }\n",
              "\n",
              "    .colab-df-convert {\n",
              "      background-color: #E8F0FE;\n",
              "      border: none;\n",
              "      border-radius: 50%;\n",
              "      cursor: pointer;\n",
              "      display: none;\n",
              "      fill: #1967D2;\n",
              "      height: 32px;\n",
              "      padding: 0 0 0 0;\n",
              "      width: 32px;\n",
              "    }\n",
              "\n",
              "    .colab-df-convert:hover {\n",
              "      background-color: #E2EBFA;\n",
              "      box-shadow: 0px 1px 2px rgba(60, 64, 67, 0.3), 0px 1px 3px 1px rgba(60, 64, 67, 0.15);\n",
              "      fill: #174EA6;\n",
              "    }\n",
              "\n",
              "    [theme=dark] .colab-df-convert {\n",
              "      background-color: #3B4455;\n",
              "      fill: #D2E3FC;\n",
              "    }\n",
              "\n",
              "    [theme=dark] .colab-df-convert:hover {\n",
              "      background-color: #434B5C;\n",
              "      box-shadow: 0px 1px 3px 1px rgba(0, 0, 0, 0.15);\n",
              "      filter: drop-shadow(0px 1px 2px rgba(0, 0, 0, 0.3));\n",
              "      fill: #FFFFFF;\n",
              "    }\n",
              "  </style>\n",
              "\n",
              "      <script>\n",
              "        const buttonEl =\n",
              "          document.querySelector('#df-3f568ba1-2297-45ac-bf6f-275c446eb264 button.colab-df-convert');\n",
              "        buttonEl.style.display =\n",
              "          google.colab.kernel.accessAllowed ? 'block' : 'none';\n",
              "\n",
              "        async function convertToInteractive(key) {\n",
              "          const element = document.querySelector('#df-3f568ba1-2297-45ac-bf6f-275c446eb264');\n",
              "          const dataTable =\n",
              "            await google.colab.kernel.invokeFunction('convertToInteractive',\n",
              "                                                     [key], {});\n",
              "          if (!dataTable) return;\n",
              "\n",
              "          const docLinkHtml = 'Like what you see? Visit the ' +\n",
              "            '<a target=\"_blank\" href=https://colab.research.google.com/notebooks/data_table.ipynb>data table notebook</a>'\n",
              "            + ' to learn more about interactive tables.';\n",
              "          element.innerHTML = '';\n",
              "          dataTable['output_type'] = 'display_data';\n",
              "          await google.colab.output.renderOutput(dataTable, element);\n",
              "          const docLink = document.createElement('div');\n",
              "          docLink.innerHTML = docLinkHtml;\n",
              "          element.appendChild(docLink);\n",
              "        }\n",
              "      </script>\n",
              "    </div>\n",
              "  </div>\n"
            ]
          },
          "metadata": {},
          "execution_count": 8
        }
      ]
    },
    {
      "cell_type": "code",
      "source": [
        "# check the number of positive vs. negative tagged sentences\n",
        "positives = data['polarity'][data.polarity == 1 ]\n",
        "negatives = data['polarity'][data.polarity == 0 ]\n",
        "\n",
        "print('Total length of the data is:         {}'.format(data.shape[0]))\n",
        "print('No. of positve tagged sentences is:  {}'.format(len(positives)))\n",
        "print('No. of negative tagged sentences is: {}'.format(len(negatives)))"
      ],
      "metadata": {
        "colab": {
          "base_uri": "https://localhost:8080/"
        },
        "id": "rVdX0s_dUfT4",
        "outputId": "70180cc2-53ad-466c-9850-009b0385bf6d"
      },
      "execution_count": null,
      "outputs": [
        {
          "output_type": "stream",
          "name": "stdout",
          "text": [
            "Total length of the data is:         200000\n",
            "No. of positve tagged sentences is:  99964\n",
            "No. of negative tagged sentences is: 100036\n"
          ]
        }
      ]
    },
    {
      "cell_type": "code",
      "source": [
        "# get a word count per of text\n",
        "def word_count(words):\n",
        "    return len(words.split())"
      ],
      "metadata": {
        "id": "b38xAl3eUkJP"
      },
      "execution_count": null,
      "outputs": []
    },
    {
      "cell_type": "code",
      "source": [
        "# plot word count distribution for both positive and negative\n",
        "\n",
        "data['word count'] = data['text'].apply(word_count)\n",
        "p = data['word count'][data.polarity == 1]\n",
        "n = data['word count'][data.polarity == 0]\n",
        "plt.figure(figsize=(12,6))\n",
        "plt.xlim(0,45)\n",
        "plt.xlabel('Word count')\n",
        "plt.ylabel('Frequency')\n",
        "g = plt.hist([p, n], color=['black','grey'], alpha=0.5, label=['positive','negative'])\n",
        "plt.legend(loc='upper right')"
      ],
      "metadata": {
        "colab": {
          "base_uri": "https://localhost:8080/",
          "height": 559
        },
        "id": "nW-HO1PSUn3J",
        "outputId": "034bfc34-57d4-4a11-92da-3d2bf42ad2db"
      },
      "execution_count": null,
      "outputs": [
        {
          "output_type": "execute_result",
          "data": {
            "text/plain": [
              "<matplotlib.legend.Legend at 0x79ceaa316e00>"
            ]
          },
          "metadata": {},
          "execution_count": 12
        },
        {
          "output_type": "display_data",
          "data": {
            "text/plain": [
              "<Figure size 1200x600 with 1 Axes>"
            ],
            "image/png": "[encoded data removed]"
          },
          "metadata": {}
        }
      ]
    },
    {
      "cell_type": "code",
      "source": [
        "#converting pandas object to a string type\n",
        "data['text'] = data['text'].astype('str')"
      ],
      "metadata": {
        "id": "p-q5lbLTUqAO"
      },
      "execution_count": null,
      "outputs": []
    },
    {
      "cell_type": "code",
      "source": [
        "nltk.download('stopwords')\n",
        "stopword = set(stopwords.words('english'))\n",
        "print(stopword)"
      ],
      "metadata": {
        "colab": {
          "base_uri": "https://localhost:8080/"
        },
        "id": "YdkugxF0U9in",
        "outputId": "23c0a707-a388-4f8b-88bc-57bc3cb7ef54"
      },
      "execution_count": null,
      "outputs": [
        {
          "output_type": "stream",
          "name": "stdout",
          "text": [
            "{'should', 'shan', 'own', \"you're\", 'about', 'in', 'herself', 'did', 'hadn', \"you'll\", 'can', 'had', 'weren', 'he', 'any', 'all', 'where', 'didn', 'won', 'over', \"should've\", 'the', 'o', 'at', 'between', \"wouldn't\", 'an', 'ain', \"weren't\", 'as', 'mustn', \"wasn't\", 'yourself', 'only', 'isn', 're', 'few', 've', 'him', 'ourselves', 'such', 'mightn', 'it', 'll', \"haven't\", 'by', 'itself', 'are', 'not', \"didn't\", \"shouldn't\", 'above', 'those', 'here', 'same', 'she', 'myself', 'there', \"doesn't\", 'just', 'am', 'up', 'which', 'be', 'you', 'their', 'wouldn', 'hasn', 'these', 'through', 'wasn', 'more', 'shouldn', 'is', 'your', 'than', 'out', 'our', 'again', 'd', \"shan't\", 'why', 'how', 'other', 'haven', 'yourselves', 'down', 'will', 'ours', 'ma', 'into', 't', 'himself', \"you'd\", 'having', 'so', 'couldn', 'then', 'but', 'until', 'because', 'below', 'from', 'each', \"aren't\", 'doesn', 'its', 'were', \"couldn't\", 'on', \"mustn't\", \"hadn't\", 'they', 'of', 'needn', 'nor', \"it's\", 'i', 'after', 'most', 'both', 'hers', 'being', \"mightn't\", 'has', 'if', 'this', 'my', 'his', 'have', 'theirs', \"she's\", 'further', 'once', \"don't\", 'who', 'me', 'some', 'm', 'aren', 'a', 'before', 'to', 'whom', 'under', 'against', 'for', 'during', \"hasn't\", 'her', 'was', \"that'll\", 'or', \"won't\", 'been', 'and', 'them', 'while', 'with', 'we', 'what', \"you've\", 'do', 'themselves', 'now', \"needn't\", 'y', \"isn't\", 'very', 'that', 'yours', 'doing', 'no', 'off', 'too', 's', 'does', 'don', 'when'}\n"
          ]
        },
        {
          "output_type": "stream",
          "name": "stderr",
          "text": [
            "[nltk_data] Downloading package stopwords to /root/nltk_data...\n",
            "[nltk_data]   Unzipping corpora/stopwords.zip.\n"
          ]
        }
      ]
    },
    {
      "cell_type": "code",
      "source": [
        "nltk.download('punkt')\n",
        "nltk.download('wordnet')"
      ],
      "metadata": {
        "colab": {
          "base_uri": "https://localhost:8080/"
        },
        "id": "e7f4ylcQU_wu",
        "outputId": "6f6f4e61-2fea-4db4-c36a-4f13d1c1c13a"
      },
      "execution_count": null,
      "outputs": [
        {
          "output_type": "stream",
          "name": "stderr",
          "text": [
            "[nltk_data] Downloading package punkt to /root/nltk_data...\n",
            "[nltk_data]   Unzipping tokenizers/punkt.zip.\n",
            "[nltk_data] Downloading package wordnet to /root/nltk_data...\n"
          ]
        },
        {
          "output_type": "execute_result",
          "data": {
            "text/plain": [
              "True"
            ]
          },
          "metadata": {},
          "execution_count": 15
        }
      ]
    },
    {
      "cell_type": "markdown",
      "source": [
        "Data Preprocessing"
      ],
      "metadata": {
        "id": "31_oG6exWLuw"
      }
    },
    {
      "cell_type": "markdown",
      "source": [
        "The Preprocessing steps taken are:\n",
        "\n",
        "Lower Casing: Each text is converted to lowercase.\n",
        "Removing URLs: Links starting with \"http\" or \"https\" or \"www\" are replaced by \"\".\n",
        "\n",
        "Removing Usernames: Replace @Usernames with word \"\". (eg: \"@XYZ\" to \"\")\n",
        "\n",
        "Removing Short Words: Words with length less than 2 are removed.\n",
        "\n",
        "Removing Stopwords: Stopwords are the English words which does not add much meaning to a sentence. They can safely be ignored without sacrificing the meaning of the sentence. (eg: \"the\", \"he\", \"have\")\n",
        "\n",
        "Lemmatizing: Lemmatization is the process of converting a word to its base form. (e.g: “wolves” to “wolf”)"
      ],
      "metadata": {
        "id": "AlL0MO4RVMu7"
      }
    },
    {
      "cell_type": "code",
      "source": [
        "urlPattern = r\"((http://)[^ ]*|(https://)[^ ]*|( www\\.)[^ ]*)\"\n",
        "userPattern = '@[^\\s]+'\n",
        "def process_tweets(tweet):\n",
        "  # Lower Casing\n",
        "    tweet = tweet.lower()\n",
        "    tweet=tweet[1:]\n",
        "    # Removing all URls\n",
        "    tweet = re.sub(urlPattern,'',tweet)\n",
        "    # Removing all @username.\n",
        "    tweet = re.sub(userPattern,'', tweet)\n",
        "    #Remove punctuations\n",
        "    tweet = tweet.translate(str.maketrans(\"\",\"\",string.punctuation))\n",
        "    #tokenizing words\n",
        "    tokens = word_tokenize(tweet)\n",
        "    #Removing Stop Words\n",
        "    final_tokens = [w for w in tokens if w not in stopword]\n",
        "    #reducing a word to its word stem\n",
        "    wordLemm = WordNetLemmatizer()\n",
        "    finalwords=[]\n",
        "    for w in final_tokens:\n",
        "      if len(w)>1:\n",
        "        word = wordLemm.lemmatize(w)\n",
        "        finalwords.append(word)\n",
        "    return ' '.join(finalwords)"
      ],
      "metadata": {
        "id": "OBAit81fVGQj"
      },
      "execution_count": null,
      "outputs": []
    },
    {
      "cell_type": "code",
      "source": [
        "data['processed_tweets'] = data['text'].apply(lambda x: process_tweets(x))\n",
        "print('Text Preprocessing complete.')"
      ],
      "metadata": {
        "colab": {
          "base_uri": "https://localhost:8080/"
        },
        "id": "WzAsD7R6VZeF",
        "outputId": "81f3d8e6-2d1a-4f0a-ef20-16c471b729ac"
      },
      "execution_count": null,
      "outputs": [
        {
          "output_type": "stream",
          "name": "stdout",
          "text": [
            "Text Preprocessing complete.\n"
          ]
        }
      ]
    },
    {
      "cell_type": "code",
      "source": [
        "data.head(10)"
      ],
      "metadata": {
        "colab": {
          "base_uri": "https://localhost:8080/",
          "height": 459
        },
        "id": "BijBQfAHVb6J",
        "outputId": "a4859ef4-54e5-4efb-b3de-1bf4dd9227bc"
      },
      "execution_count": null,
      "outputs": [
        {
          "output_type": "execute_result",
          "data": {
            "text/plain": [
              "         polarity          id                          date     query  \\\n",
              "728820          0  2263167417  Sun Jun 21 00:07:00 PDT 2009  NO_QUERY   \n",
              "1406870         1  2055418139  Sat Jun 06 09:16:44 PDT 2009  NO_QUERY   \n",
              "441916          0  2067138569  Sun Jun 07 11:49:02 PDT 2009  NO_QUERY   \n",
              "1428855         1  2059633736  Sat Jun 06 17:19:33 PDT 2009  NO_QUERY   \n",
              "163163          0  1957715674  Fri May 29 01:22:36 PDT 2009  NO_QUERY   \n",
              "1128868         1  1975425768  Sat May 30 15:07:51 PDT 2009  NO_QUERY   \n",
              "21989           0  1557391102  Sun Apr 19 03:49:40 PDT 2009  NO_QUERY   \n",
              "1599063         1  2193343492  Tue Jun 16 08:19:46 PDT 2009  NO_QUERY   \n",
              "932281          1  1771057545  Mon May 11 23:03:40 PDT 2009  NO_QUERY   \n",
              "399346          0  2057128564  Sat Jun 06 12:25:32 PDT 2009  NO_QUERY   \n",
              "\n",
              "                    user                                               text  \\\n",
              "728820             ak618  @tina_murphy well then zito is going to be a l...   \n",
              "1406870          sammi_x  @mallverine  .. quite easy though .. just one ...   \n",
              "441916         jenkersey  Driving out to Steven's Pass. It's cloudy so t...   \n",
              "1428855  audiencealldead          Bring on the harleys for ohio bike week.    \n",
              "163163        in_the_air  @JulieAdore I checked ULCA, they've got a prog...   \n",
              "1128868       lucasstarr  Leave it up to Sherwood to say that Terminator...   \n",
              "21989             joseio  is trying to stay awake after being up all nig...   \n",
              "1599063    amyiscrazeeyh  will be officially out of high school at 2:30p...   \n",
              "932281           tonchyZ  Buenos dï¿½as. Cï¿½mo estï¿½s? It is a beautif...   \n",
              "399346      lauraEchilds                                  @mrhankmanthe3rd    \n",
              "\n",
              "         word count                                   processed_tweets  \n",
              "728820           24  tinamurphy well zito going lost cause die alon...  \n",
              "1406870          16  mallverine quite easy though one day il ok tha...  \n",
              "441916           12  riving stevens pas cloudy convertible seems po...  \n",
              "1428855           8                        ring harleys ohio bike week  \n",
              "163163           17  julieadore checked ulca theyve got program pro...  \n",
              "1128868          14  eave sherwood say terminator sucked never trus...  \n",
              "21989            12                trying stay awake night feeling ill  \n",
              "1599063          10          ill officially high school 230pm tomorrow  \n",
              "932281           19  uenos dï¿½as cï¿½mo estï¿½s beautiful sunny mo...  \n",
              "399346            1                                    mrhankmanthe3rd  "
            ],
            "text/html": [
              "\n",
              "\n",
              "  <div id=\"df-c9584a23-fe9f-4d02-b12f-17234b1ab7c7\">\n",
              "    <div class=\"colab-df-container\">\n",
              "      <div>\n",
              "<style scoped>\n",
              "    .dataframe tbody tr th:only-of-type {\n",
              "        vertical-align: middle;\n",
              "    }\n",
              "\n",
              "    .dataframe tbody tr th {\n",
              "        vertical-align: top;\n",
              "    }\n",
              "\n",
              "    .dataframe thead th {\n",
              "        text-align: right;\n",
              "    }\n",
              "</style>\n",
              "<table border=\"1\" class=\"dataframe\">\n",
              "  <thead>\n",
              "    <tr style=\"text-align: right;\">\n",
              "      <th></th>\n",
              "      <th>polarity</th>\n",
              "      <th>id</th>\n",
              "      <th>date</th>\n",
              "      <th>query</th>\n",
              "      <th>user</th>\n",
              "      <th>text</th>\n",
              "      <th>word count</th>\n",
              "      <th>processed_tweets</th>\n",
              "    </tr>\n",
              "  </thead>\n",
              "  <tbody>\n",
              "    <tr>\n",
              "      <th>728820</th>\n",
              "      <td>0</td>\n",
              "      <td>2263167417</td>\n",
              "      <td>Sun Jun 21 00:07:00 PDT 2009</td>\n",
              "      <td>NO_QUERY</td>\n",
              "      <td>ak618</td>\n",
              "      <td>@tina_murphy well then zito is going to be a l...</td>\n",
              "      <td>24</td>\n",
              "      <td>tinamurphy well zito going lost cause die alon...</td>\n",
              "    </tr>\n",
              "    <tr>\n",
              "      <th>1406870</th>\n",
              "      <td>1</td>\n",
              "      <td>2055418139</td>\n",
              "      <td>Sat Jun 06 09:16:44 PDT 2009</td>\n",
              "      <td>NO_QUERY</td>\n",
              "      <td>sammi_x</td>\n",
              "      <td>@mallverine  .. quite easy though .. just one ...</td>\n",
              "      <td>16</td>\n",
              "      <td>mallverine quite easy though one day il ok tha...</td>\n",
              "    </tr>\n",
              "    <tr>\n",
              "      <th>441916</th>\n",
              "      <td>0</td>\n",
              "      <td>2067138569</td>\n",
              "      <td>Sun Jun 07 11:49:02 PDT 2009</td>\n",
              "      <td>NO_QUERY</td>\n",
              "      <td>jenkersey</td>\n",
              "      <td>Driving out to Steven's Pass. It's cloudy so t...</td>\n",
              "      <td>12</td>\n",
              "      <td>riving stevens pas cloudy convertible seems po...</td>\n",
              "    </tr>\n",
              "    <tr>\n",
              "      <th>1428855</th>\n",
              "      <td>1</td>\n",
              "      <td>2059633736</td>\n",
              "      <td>Sat Jun 06 17:19:33 PDT 2009</td>\n",
              "      <td>NO_QUERY</td>\n",
              "      <td>audiencealldead</td>\n",
              "      <td>Bring on the harleys for ohio bike week.</td>\n",
              "      <td>8</td>\n",
              "      <td>ring harleys ohio bike week</td>\n",
              "    </tr>\n",
              "    <tr>\n",
              "      <th>163163</th>\n",
              "      <td>0</td>\n",
              "      <td>1957715674</td>\n",
              "      <td>Fri May 29 01:22:36 PDT 2009</td>\n",
              "      <td>NO_QUERY</td>\n",
              "      <td>in_the_air</td>\n",
              "      <td>@JulieAdore I checked ULCA, they've got a prog...</td>\n",
              "      <td>17</td>\n",
              "      <td>julieadore checked ulca theyve got program pro...</td>\n",
              "    </tr>\n",
              "    <tr>\n",
              "      <th>1128868</th>\n",
              "      <td>1</td>\n",
              "      <td>1975425768</td>\n",
              "      <td>Sat May 30 15:07:51 PDT 2009</td>\n",
              "      <td>NO_QUERY</td>\n",
              "      <td>lucasstarr</td>\n",
              "      <td>Leave it up to Sherwood to say that Terminator...</td>\n",
              "      <td>14</td>\n",
              "      <td>eave sherwood say terminator sucked never trus...</td>\n",
              "    </tr>\n",
              "    <tr>\n",
              "      <th>21989</th>\n",
              "      <td>0</td>\n",
              "      <td>1557391102</td>\n",
              "      <td>Sun Apr 19 03:49:40 PDT 2009</td>\n",
              "      <td>NO_QUERY</td>\n",
              "      <td>joseio</td>\n",
              "      <td>is trying to stay awake after being up all nig...</td>\n",
              "      <td>12</td>\n",
              "      <td>trying stay awake night feeling ill</td>\n",
              "    </tr>\n",
              "    <tr>\n",
              "      <th>1599063</th>\n",
              "      <td>1</td>\n",
              "      <td>2193343492</td>\n",
              "      <td>Tue Jun 16 08:19:46 PDT 2009</td>\n",
              "      <td>NO_QUERY</td>\n",
              "      <td>amyiscrazeeyh</td>\n",
              "      <td>will be officially out of high school at 2:30p...</td>\n",
              "      <td>10</td>\n",
              "      <td>ill officially high school 230pm tomorrow</td>\n",
              "    </tr>\n",
              "    <tr>\n",
              "      <th>932281</th>\n",
              "      <td>1</td>\n",
              "      <td>1771057545</td>\n",
              "      <td>Mon May 11 23:03:40 PDT 2009</td>\n",
              "      <td>NO_QUERY</td>\n",
              "      <td>tonchyZ</td>\n",
              "      <td>Buenos dï¿½as. Cï¿½mo estï¿½s? It is a beautif...</td>\n",
              "      <td>19</td>\n",
              "      <td>uenos dï¿½as cï¿½mo estï¿½s beautiful sunny mo...</td>\n",
              "    </tr>\n",
              "    <tr>\n",
              "      <th>399346</th>\n",
              "      <td>0</td>\n",
              "      <td>2057128564</td>\n",
              "      <td>Sat Jun 06 12:25:32 PDT 2009</td>\n",
              "      <td>NO_QUERY</td>\n",
              "      <td>lauraEchilds</td>\n",
              "      <td>@mrhankmanthe3rd</td>\n",
              "      <td>1</td>\n",
              "      <td>mrhankmanthe3rd</td>\n",
              "    </tr>\n",
              "  </tbody>\n",
              "</table>\n",
              "</div>\n",
              "      <button class=\"colab-df-convert\" onclick=\"convertToInteractive('df-c9584a23-fe9f-4d02-b12f-17234b1ab7c7')\"\n",
              "              title=\"Convert this dataframe to an interactive table.\"\n",
              "              style=\"display:none;\">\n",
              "\n",
              "  <svg xmlns=\"http://www.w3.org/2000/svg\" height=\"24px\"viewBox=\"0 0 24 24\"\n",
              "       width=\"24px\">\n",
              "    <path d=\"M0 0h24v24H0V0z\" fill=\"none\"/>\n",
              "    <path d=\"M18.56 5.44l.94 2.06.94-2.06 2.06-.94-2.06-.94-.94-2.06-.94 2.06-2.06.94zm-11 1L8.5 8.5l.94-2.06 2.06-.94-2.06-.94L8.5 2.5l-.94 2.06-2.06.94zm10 10l.94 2.06.94-2.06 2.06-.94-2.06-.94-.94-2.06-.94 2.06-2.06.94z\"/><path d=\"M17.41 7.96l-1.37-1.37c-.4-.4-.92-.59-1.43-.59-.52 0-1.04.2-1.43.59L10.3 9.45l-7.72 7.72c-.78.78-.78 2.05 0 2.83L4 21.41c.39.39.9.59 1.41.59.51 0 1.02-.2 1.41-.59l7.78-7.78 2.81-2.81c.8-.78.8-2.07 0-2.86zM5.41 20L4 18.59l7.72-7.72 1.47 1.35L5.41 20z\"/>\n",
              "  </svg>\n",
              "      </button>\n",
              "\n",
              "\n",
              "\n",
              "    <div id=\"df-051cd8b1-fac7-4a7b-8da6-b999f0041008\">\n",
              "      <button class=\"colab-df-quickchart\" onclick=\"quickchart('df-051cd8b1-fac7-4a7b-8da6-b999f0041008')\"\n",
              "              title=\"Suggest charts.\"\n",
              "              style=\"display:none;\">\n",
              "\n",
              "<svg xmlns=\"http://www.w3.org/2000/svg\" height=\"24px\"viewBox=\"0 0 24 24\"\n",
              "     width=\"24px\">\n",
              "    <g>\n",
              "        <path d=\"M19 3H5c-1.1 0-2 .9-2 2v14c0 1.1.9 2 2 2h14c1.1 0 2-.9 2-2V5c0-1.1-.9-2-2-2zM9 17H7v-7h2v7zm4 0h-2V7h2v10zm4 0h-2v-4h2v4z\"/>\n",
              "    </g>\n",
              "</svg>\n",
              "      </button>\n",
              "    </div>\n",
              "\n",
              "<style>\n",
              "  .colab-df-quickchart {\n",
              "    background-color: #E8F0FE;\n",
              "    border: none;\n",
              "    border-radius: 50%;\n",
              "    cursor: pointer;\n",
              "    display: none;\n",
              "    fill: #1967D2;\n",
              "    height: 32px;\n",
              "    padding: 0 0 0 0;\n",
              "    width: 32px;\n",
              "  }\n",
              "\n",
              "  .colab-df-quickchart:hover {\n",
              "    background-color: #E2EBFA;\n",
              "    box-shadow: 0px 1px 2px rgba(60, 64, 67, 0.3), 0px 1px 3px 1px rgba(60, 64, 67, 0.15);\n",
              "    fill: #174EA6;\n",
              "  }\n",
              "\n",
              "  [theme=dark] .colab-df-quickchart {\n",
              "    background-color: #3B4455;\n",
              "    fill: #D2E3FC;\n",
              "  }\n",
              "\n",
              "  [theme=dark] .colab-df-quickchart:hover {\n",
              "    background-color: #434B5C;\n",
              "    box-shadow: 0px 1px 3px 1px rgba(0, 0, 0, 0.15);\n",
              "    filter: drop-shadow(0px 1px 2px rgba(0, 0, 0, 0.3));\n",
              "    fill: #FFFFFF;\n",
              "  }\n",
              "</style>\n",
              "\n",
              "    <script>\n",
              "      async function quickchart(key) {\n",
              "        const containerElement = document.querySelector('#' + key);\n",
              "        const charts = await google.colab.kernel.invokeFunction(\n",
              "            'suggestCharts', [key], {});\n",
              "      }\n",
              "    </script>\n",
              "\n",
              "      <script>\n",
              "\n",
              "function displayQuickchartButton(domScope) {\n",
              "  let quickchartButtonEl =\n",
              "    domScope.querySelector('#df-051cd8b1-fac7-4a7b-8da6-b999f0041008 button.colab-df-quickchart');\n",
              "  quickchartButtonEl.style.display =\n",
              "    google.colab.kernel.accessAllowed ? 'block' : 'none';\n",
              "}\n",
              "\n",
              "        displayQuickchartButton(document);\n",
              "      </script>\n",
              "      <style>\n",
              "    .colab-df-container {\n",
              "      display:flex;\n",
              "      flex-wrap:wrap;\n",
              "      gap: 12px;\n",
              "    }\n",
              "\n",
              "    .colab-df-convert {\n",
              "      background-color: #E8F0FE;\n",
              "      border: none;\n",
              "      border-radius: 50%;\n",
              "      cursor: pointer;\n",
              "      display: none;\n",
              "      fill: #1967D2;\n",
              "      height: 32px;\n",
              "      padding: 0 0 0 0;\n",
              "      width: 32px;\n",
              "    }\n",
              "\n",
              "    .colab-df-convert:hover {\n",
              "      background-color: #E2EBFA;\n",
              "      box-shadow: 0px 1px 2px rgba(60, 64, 67, 0.3), 0px 1px 3px 1px rgba(60, 64, 67, 0.15);\n",
              "      fill: #174EA6;\n",
              "    }\n",
              "\n",
              "    [theme=dark] .colab-df-convert {\n",
              "      background-color: #3B4455;\n",
              "      fill: #D2E3FC;\n",
              "    }\n",
              "\n",
              "    [theme=dark] .colab-df-convert:hover {\n",
              "      background-color: #434B5C;\n",
              "      box-shadow: 0px 1px 3px 1px rgba(0, 0, 0, 0.15);\n",
              "      filter: drop-shadow(0px 1px 2px rgba(0, 0, 0, 0.3));\n",
              "      fill: #FFFFFF;\n",
              "    }\n",
              "  </style>\n",
              "\n",
              "      <script>\n",
              "        const buttonEl =\n",
              "          document.querySelector('#df-c9584a23-fe9f-4d02-b12f-17234b1ab7c7 button.colab-df-convert');\n",
              "        buttonEl.style.display =\n",
              "          google.colab.kernel.accessAllowed ? 'block' : 'none';\n",
              "\n",
              "        async function convertToInteractive(key) {\n",
              "          const element = document.querySelector('#df-c9584a23-fe9f-4d02-b12f-17234b1ab7c7');\n",
              "          const dataTable =\n",
              "            await google.colab.kernel.invokeFunction('convertToInteractive',\n",
              "                                                     [key], {});\n",
              "          if (!dataTable) return;\n",
              "\n",
              "          const docLinkHtml = 'Like what you see? Visit the ' +\n",
              "            '<a target=\"_blank\" href=https://colab.research.google.com/notebooks/data_table.ipynb>data table notebook</a>'\n",
              "            + ' to learn more about interactive tables.';\n",
              "          element.innerHTML = '';\n",
              "          dataTable['output_type'] = 'display_data';\n",
              "          await google.colab.output.renderOutput(dataTable, element);\n",
              "          const docLink = document.createElement('div');\n",
              "          docLink.innerHTML = docLinkHtml;\n",
              "          element.appendChild(docLink);\n",
              "        }\n",
              "      </script>\n",
              "    </div>\n",
              "  </div>\n"
            ]
          },
          "metadata": {},
          "execution_count": 18
        }
      ]
    },
    {
      "cell_type": "markdown",
      "source": [
        "**Vectorization and Splitting the data**\n",
        "\n",
        "Storing input variable-processes_tweets to X and output variable-polarity to y"
      ],
      "metadata": {
        "id": "ZYKxRF_YWAgp"
      }
    },
    {
      "cell_type": "code",
      "source": [
        "X = data['processed_tweets'].values\n",
        "y = data['polarity'].values"
      ],
      "metadata": {
        "id": "jvoQyADNVnh2"
      },
      "execution_count": null,
      "outputs": []
    },
    {
      "cell_type": "code",
      "source": [
        "print(X.shape)\n",
        "print(y.shape)"
      ],
      "metadata": {
        "colab": {
          "base_uri": "https://localhost:8080/"
        },
        "id": "K-o8BuNbWo3j",
        "outputId": "3672bc56-cc02-4e92-a56e-dd76db95d9a9"
      },
      "execution_count": null,
      "outputs": [
        {
          "output_type": "stream",
          "name": "stdout",
          "text": [
            "(200000,)\n",
            "(200000,)\n"
          ]
        }
      ]
    },
    {
      "cell_type": "markdown",
      "source": [
        "Convert text to word frequency vectors\n",
        "\n",
        "TF-IDF\n",
        "\n",
        "This is an acronym than stands for Term Frequency – Inverse Document Frequency which are the components of the resulting scores assigned to each word.\n",
        "\n",
        "Term Frequency: This summarizes how often a given word appears within a document.\n",
        "\n",
        "Inverse Document Frequency: This downscales words that appear a lot across documents."
      ],
      "metadata": {
        "id": "_WBKnnUOWwg8"
      }
    },
    {
      "cell_type": "code",
      "source": [
        "X_train, X_test, y_train, y_test = train_test_split(X, y, test_size = 0.20, random_state=101)"
      ],
      "metadata": {
        "id": "HsfiGvy0XRk4"
      },
      "execution_count": null,
      "outputs": []
    },
    {
      "cell_type": "code",
      "source": [
        "print(\"X_train\", X_train.shape)\n",
        "print(\"y_train\", y_train.shape)\n",
        "print()\n",
        "print(\"X_test\", X_test.shape)\n",
        "print(\"y_test\", y_test.shape)"
      ],
      "metadata": {
        "colab": {
          "base_uri": "https://localhost:8080/"
        },
        "id": "Fxs_KAbZXkSE",
        "outputId": "90839d9f-abdb-4237-d811-7659478af6b2"
      },
      "execution_count": null,
      "outputs": [
        {
          "output_type": "stream",
          "name": "stdout",
          "text": [
            "X_train (160000, 170482)\n",
            "y_train (160000,)\n",
            "\n",
            "X_test (40000, 170482)\n",
            "y_test (40000,)\n"
          ]
        }
      ]
    },
    {
      "cell_type": "markdown",
      "source": [
        "**Model Building**"
      ],
      "metadata": {
        "id": "cZezn0OKaMMc"
      }
    },
    {
      "cell_type": "code",
      "source": [
        "def model_Evaluate(model):\n",
        "    #accuracy of model on training data\n",
        "    acc_train=model.score(X_train, y_train)\n",
        "    #accuracy of model on test data\n",
        "    acc_test=model.score(X_test, y_test)\n",
        "\n",
        "    print('Accuracy of model on training data : {}'.format(acc_train*100))\n",
        "    print('Accuracy of model on testing data : {} \\n'.format(acc_test*100))\n",
        "\n",
        "    # Predict values for Test dataset\n",
        "    y_pred = model.predict(X_test)\n",
        "\n",
        "    # Print the evaluation metrics for the dataset.\n",
        "    print(classification_report(y_test, y_pred))\n",
        "\n",
        "    # Compute and plot the Confusion matrix\n",
        "    cf_matrix = confusion_matrix(y_test, y_pred)\n",
        "\n",
        "    categories  = ['Negative','Positive']\n",
        "    group_names = ['True Neg','False Pos', 'False Neg','True Pos']\n",
        "    group_percentages = ['{0:.2%}'.format(value) for value in cf_matrix.flatten() / np.sum(cf_matrix)]\n",
        "\n",
        "    labels = [f'{v1}\\n{v2}' for v1, v2 in zip(group_names,group_percentages)]\n",
        "    labels = np.asarray(labels).reshape(2,2)\n",
        "\n",
        "    sns.heatmap(cf_matrix, annot = labels, cmap = 'Reds',fmt = '',\n",
        "                xticklabels = categories, yticklabels = categories)\n",
        "\n",
        "    plt.xlabel(\"Predicted values\", fontdict = {'size':14}, labelpad = 10)\n",
        "    plt.ylabel(\"Actual values\"   , fontdict = {'size':14}, labelpad = 10)\n",
        "    plt.title (\"Confusion Matrix\", fontdict = {'size':18}, pad = 20)"
      ],
      "metadata": {
        "id": "3lt6OYhBXnES"
      },
      "execution_count": null,
      "outputs": []
    },
    {
      "cell_type": "markdown",
      "source": [
        "**Random Forest**"
      ],
      "metadata": {
        "id": "zQa-Xf-XYBYE"
      }
    },
    {
      "cell_type": "code",
      "source": [
        "rf = RandomForestClassifier(n_estimators = 20, criterion = 'entropy', max_depth=50)\n",
        "rf.fit(X_train, y_train)\n",
        "model_Evaluate(rf)"
      ],
      "metadata": {
        "colab": {
          "base_uri": "https://localhost:8080/",
          "height": 717
        },
        "id": "GW_Qmm8wXvmB",
        "outputId": "7d7f1501-ce49-4830-ec4d-874b7a3b1a63"
      },
      "execution_count": null,
      "outputs": [
        {
          "output_type": "stream",
          "name": "stdout",
          "text": [
            "Accuracy of model on training data : 75.84625\n",
            "Accuracy of model on testing data : 71.17750000000001 \n",
            "\n",
            "              precision    recall  f1-score   support\n",
            "\n",
            "           0       0.74      0.64      0.69     19892\n",
            "           1       0.69      0.78      0.73     20108\n",
            "\n",
            "    accuracy                           0.71     40000\n",
            "   macro avg       0.72      0.71      0.71     40000\n",
            "weighted avg       0.72      0.71      0.71     40000\n",
            "\n"
          ]
        },
        {
          "output_type": "display_data",
          "data": {
            "text/plain": [
              "<Figure size 640x480 with 2 Axes>"
            ],
            "image/png": "[encoded data removed]"
          },
          "metadata": {}
        }
      ]
    },
    {
      "cell_type": "markdown",
      "source": [
        "**SVM**"
      ],
      "metadata": {
        "id": "Px1CEHsyY1zr"
      }
    },
    {
      "cell_type": "code",
      "source": [
        "svm = LinearSVC()\n",
        "svm.fit(X_train, y_train)\n",
        "model_Evaluate(svm)"
      ],
      "metadata": {
        "colab": {
          "base_uri": "https://localhost:8080/",
          "height": 717
        },
        "id": "0shX4Zb1YHC2",
        "outputId": "940a592e-1b3e-4f19-940f-f63be8c32e5f"
      },
      "execution_count": null,
      "outputs": [
        {
          "output_type": "stream",
          "name": "stdout",
          "text": [
            "Accuracy of model on training data : 93.095\n",
            "Accuracy of model on testing data : 75.85499999999999 \n",
            "\n",
            "              precision    recall  f1-score   support\n",
            "\n",
            "           0       0.77      0.74      0.75     19892\n",
            "           1       0.75      0.78      0.76     20108\n",
            "\n",
            "    accuracy                           0.76     40000\n",
            "   macro avg       0.76      0.76      0.76     40000\n",
            "weighted avg       0.76      0.76      0.76     40000\n",
            "\n"
          ]
        },
        {
          "output_type": "display_data",
          "data": {
            "text/plain": [
              "<Figure size 640x480 with 2 Axes>"
            ],
            "image/png": "[encoded data removed]"
          },
          "metadata": {}
        }
      ]
    },
    {
      "cell_type": "code",
      "source": [],
      "metadata": {
        "id": "sYVE45DEY5os"
      },
      "execution_count": null,
      "outputs": []
    }
  ]
}